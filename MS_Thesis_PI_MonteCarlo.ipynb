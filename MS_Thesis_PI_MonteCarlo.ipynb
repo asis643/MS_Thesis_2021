{
 "cells": [
  {
   "cell_type": "markdown",
   "id": "loved-latex",
   "metadata": {},
   "source": [
    "# Implementation of Monte Carlo simulation with PI controller\n",
    "Ashish Bhattarai and Bernt Lie\n",
    "University of South-Eastern Norway\n",
    "Porsgrunn, May 2021"
   ]
  },
  {
   "cell_type": "code",
   "execution_count": null,
   "id": "individual-cowboy",
   "metadata": {},
   "outputs": [],
   "source": [
    "using Plots\n",
    "addprocs()\n",
    "@everywhere using DifferentialEquations\n",
    "using Distributions\n",
    "using Distributed\n",
    "using LaTeXStrings\n",
    "using LinearAlgebra\n",
    "pyplot();\n",
    "using SparseArrays\n",
    "using StaticArrays\n",
    "using JLD    #used to store the data"
   ]
  },
  {
   "cell_type": "code",
   "execution_count": null,
   "id": "signal-evanescence",
   "metadata": {},
   "outputs": [],
   "source": [
    "LW1 = 2.5;\n",
    "LCoil = :darkred;\n",
    "LCwater = :blue;\n",
    "# Plotting befor and after together\n",
    "figpath = \"D:/USN/Asis/MS_Thesis/USN-MSc-Lyx-Template/fig/\""
   ]
  },
  {
   "cell_type": "code",
   "execution_count": 321,
   "id": "finite-greenhouse",
   "metadata": {},
   "outputs": [],
   "source": [
    "################Constants########\n",
    "g = 9.81;   #acceleration due to gravity\n",
    "d2s = 86400.0;  #Factor to convert day to seconds\n",
    "\n",
    "#Reservoir dimension\n",
    "R = 200;  #in meters\n",
    "L = 1200;  #in meters\n",
    "\n",
    "#curve fitting parameters obtained from saturation and permeability data\n",
    "fit1 = 3.4830677845851046;\n",
    "fit2 = 0.00043971820694883656;\n",
    "fit3 = 3.5326302833873475;\n",
    "fit4 = 2.6282606178861068;\n",
    "\n",
    "###########Grid size#############\n",
    "m = 20; #number of grids along R\n",
    "n = 20; #number of grids along L\n",
    "Delr = R/m;   #step length along R\n",
    "Dell = L/n;   #step length along L\n",
    "\n",
    "##########Fluid properties########\n",
    "rhoo = 950.0;  #Density of oil\n",
    "rhow = 1050.0; #Density of water\n",
    "uo = 100e-3;    #Oil viscosity\n",
    "uw = 1e-3;   #Water viscosity\n",
    "\n",
    "#######Rock properties##########\n",
    "K_R = 1.0*1.4803849e-12;   #Absolue permability of rock along r\n",
    "K_L = 1.0*1.4803849e-12;   #Absolue permability of rock along l\n",
    "K_eff = sqrt(K_R*K_L);  #Effective permeability\n",
    "alpha = 20*pi/180;      #Inclination angle of a wedge shaped reservoir\n",
    "beta = 25*pi/180;    #arch angle of a wedge shaped reservoir\n",
    "theta = alpha + beta/2;\n",
    "phi = 0.27;   #rock porosity\n",
    "\n",
    "##########Aquifier properties##########\n",
    "Kwa = 1.0;    #Relative permeability of aquifer\n",
    "P_a = 115e5;  # Aquifier pressure\n",
    "\n",
    "##########Well properties#############\n",
    "rw = 0.124/2.0;  #Well radius\n",
    "re = 0.5*Delr;    #equivalent radius\n",
    "Lw = 1200;   #Well length\n",
    "Del_Lp = Dell;   #pipe step length\n",
    "Nv = n;  #Number of valves\n",
    "Qtot = 0.00925926;    #total specified flow rate\n",
    "Ar = pi*0.003217^2/4.0;  #Orifice are\n",
    "\n",
    "##########Array allocation for pentadiagonal matrix and other matrices##########\n",
    "B_sparse = sparse(zeros(Float64, m*n,m*n));  #Column vector of size m*n, used sparse matrix to speed up the simulation\n",
    "A_sparse = sparse(zeros(Float64, m*n,m*n));  #pentadiagonal matrix of dimension m*n x m*n, used sparse matrix to speed up the simulation\n",
    "v = zeros(Float64, m*n);       #column vector of size m*n\n",
    "P = zeros(Float64, m*n);       #matrix of dimension m x n for pressure at each block\n",
    "\n",
    "############Arrays to store fluid flow rates,combined density and well pressure#########\n",
    "qmix = zeros(Float64,n,1);\n",
    "q_w = zeros(Float64,n,1);  #Water flow rate\n",
    "prw = zeros(Float64,n,1);     #initialize for well pressure\n",
    "rho_mix = zeros(Float64,n,1);\n",
    "\n",
    "############PI controller########\n",
    "Err = zeros(Float64,4,1);\n",
    "u1 = zeros(Float64,4,1);\n",
    "z1 = zeros(Float64,4,1);\n",
    "uAc = zeros(Float64,4,1);\n",
    "u0 = 1.0;\n",
    "kp = 1/(13.32*10000);\n",
    "Ti = 2*17000*d2s;\n",
    "Ts = 1*d2s;"
   ]
  },
  {
   "cell_type": "markdown",
   "id": "suited-colorado",
   "metadata": {},
   "source": [
    "#  Function to calculate permeability and to update water saturation"
   ]
  },
  {
   "cell_type": "code",
   "execution_count": null,
   "id": "hairy-drunk",
   "metadata": {},
   "outputs": [],
   "source": [
    "function UpdatePerm(Sat)\n",
    "    Perm_w = zeros(Float64, m,n);\n",
    "    Perm_o = zeros(Float64, m,n);\n",
    "    for i = 1:1:m\n",
    "        for j = 1:1:n\n",
    "            if Sat[i,j] >= 1.0\n",
    "                Sat[i,j] = 1.0;\n",
    "                Perm_w[i,j] = 1.0;\n",
    "                Perm_o[i,j] = 0.0;\n",
    "            elseif Sat[i,j] > 0.0;\n",
    "                Perm_w[i,j] = Sat[i,j]^fit1 + fit2;\n",
    "                Perm_o[i,j] = (1.0 -Sat[i,j])^fit3 * (1.0 -Sat[i,j]^fit4);\n",
    "            else\n",
    "                Sat[i,j] = 0.0;\n",
    "                Perm_w[i,j] = 0.0;\n",
    "                Perm_o[i,j] = 1.0;\n",
    "            end\n",
    "        end\n",
    "    end\n",
    "    return [Sat,Perm_w,Perm_o];\n",
    "end"
   ]
  },
  {
   "cell_type": "markdown",
   "id": "appropriate-genetics",
   "metadata": {},
   "source": [
    " # Function to calcuate fluid flow distribution at the well"
   ]
  },
  {
   "cell_type": "code",
   "execution_count": null,
   "id": "suspended-genesis",
   "metadata": {},
   "outputs": [],
   "source": [
    "function Borehole_PI(prw,Qtot,A_1,A_2,A_3,A_4,rhomix)\n",
    "    Area = zeros(Nv,1);\n",
    "    Q = zeros(Nv+1,1);\n",
    "    pbh = zeros(Nv+1,1);\n",
    "    pbh_upper_limit = 85e5;\n",
    "    pbh_lower_limit = 10e5;\n",
    "    Area[1:5] .= A_1;   #giving same control input signal to ICVs number 1 to 5\n",
    "    Area[6:10] .= A_2;   #giving same control input signal to ICVs number 6 to 10\n",
    "    Area[11:15] .= A_3;  #giving same control input signal to ICVs number 11 to 15\n",
    "    Area[16:20] .= A_4;  #giving same control input signal to ICVs number 16 to 20\n",
    "    Q[1] = Qtot;\n",
    "    q = zeros(Nv,1);\n",
    "    a = Qtot/Nv;\n",
    "    b = -a^2 *(Cu*mean(rhomix))/(Cv^2*(mean(Area))^2) + mean(prw[1:Nv]);\n",
    "    pbh[1] = b - fr*mean(rhomix)*8*Del_Lp/(pi^2*(2*rp)^5)*Qtot;\n",
    "    if pbh[1] > pbh_upper_limit\n",
    "        pbh[1] = pbh_upper_limit;\n",
    "    end\n",
    "    for i = 1:Nv\n",
    "        pbh[i+1]=pbh[i]+fr*rhomix[i]*8*Del_Lp/(pi^2*(2*rp)^5)*Q[i];\n",
    "        if (prw[i]-pbh[i+1])<0.0\n",
    "            break;\n",
    "        end\n",
    "        q[i]=sqrt((prw[i]-pbh[i+1])*Cv^2*Area[i]^2/(Cu*rhomix[i]));\n",
    "        Q[i+1] = Q[i] - q[i];\n",
    "        if Q[i+1] <=0.0\n",
    "            break;\n",
    "        end\n",
    "    end\n",
    "    return [q,pbh[1]];\n",
    "end"
   ]
  },
  {
   "cell_type": "markdown",
   "id": "hundred-liver",
   "metadata": {},
   "source": [
    "# Function to calculate pressure equation"
   ]
  },
  {
   "cell_type": "code",
   "execution_count": null,
   "id": "olympic-chocolate",
   "metadata": {},
   "outputs": [],
   "source": [
    "function PressureCalc(Krw,Kro,qmix)\n",
    "    f = zeros(Float64, m*n);       #column vector of size m*n\n",
    "    #For blocks at i = 1 and j = 1\n",
    "    i = 1;\n",
    "    j = 1;\n",
    "    z = n*(i-1)+j;\n",
    "    r = R + (0.5-i)*Delr;\n",
    "    ri = R;\n",
    "    ro = R - i*Delr;\n",
    "    T_a = (Kwa/uw)*K_eff;\n",
    "    T_i1j = (Kro[i,j+1]/uo + Krw[i,j+1]/uw)*K_eff;\n",
    "    T_ij = (Kro[i,j]/uo + Krw[i,j]/uw)*K_eff;\n",
    "    E_a = (Kwa*rhow/uw)*K_eff;\n",
    "    E_ij = (Kro[i,j]*rhoo/uo + Krw[i,j]*rhow/uw)*K_eff;\n",
    "    A_sparse[z,z] = -(1/(r*Delr^2))*(T_a*ri+T_ij*ro)-(1/Dell^2)*T_i1j;\n",
    "    A_sparse[z,z+1] = (1/Dell^2)*T_i1j;\n",
    "    A_sparse[z,z+n] = (1/(r*Delr^2))*ro*T_ij;\n",
    "    f[1] = -(1/(r*Delr^2))*T_a*ri*P_a - (1/(r*Delr))*( E_ij*ro - E_a*ri)*g*sin(theta);\n",
    "    #For blocks at i = 1 and j = 2:n-1\n",
    "    i = 1;\n",
    "    for j = 2:1:n-1\n",
    "        z = n*(i-1)+j;\n",
    "        T_ij = (Kro[i,j]/uo + Krw[i,j]/uw)*K_eff;\n",
    "        T_i1j = (Kro[i,j+1]/uo + Krw[i,j+1]/uw)*K_eff;\n",
    "        E_ij = (Kro[i,j]*rhoo/uo + Krw[i,j]*rhow/uw)*K_eff;\n",
    "        A_sparse[z,z-1] = (1/(Dell^2))*T_ij;\n",
    "        A_sparse[z,z] = -(1/(r*Delr^2))*(T_a*ri+T_ij*ro)-(1/Dell^2)*(T_ij + T_i1j);\n",
    "        A_sparse[z,z+1] = (1/Dell^2)*T_i1j;\n",
    "        A_sparse[z,z+n] = (1/(r * Delr^2))*T_ij*ro;\n",
    "        f[z] = -(1/(r*Delr^2))*T_a*ri*P_a - (1/(r*Delr))*(E_ij*ro - E_a*ri)*g*sin(theta);\n",
    "    end\n",
    "    #For blocks at i = 1 and j = n\n",
    "    i = 1;\n",
    "    j = n;\n",
    "    z = n*(i-1)+j;\n",
    "    T_ij = (Kro[i,j]/uo + Krw[i,j]/uw)*K_eff;\n",
    "    E_ij = (Kro[i,j]*rhoo/uo + Krw[i,j]*rhow/uw)*K_eff;\n",
    "    A_sparse[z,z-1] = (1/Dell^2)*T_ij;\n",
    "    A_sparse[z,z] = -(1/(r*Delr^2))*(T_a*ri+T_ij*ro)-(1/Dell^2)*T_ij;\n",
    "    A_sparse[z,z+n] = (1/(r*Delr^2))*T_ij*ro;\n",
    "    f[z] = -(1/(r*Delr^2))*T_a*ri*P_a - (1/(r*Delr))*(E_ij*ro - E_a*ri)*g*sin(theta);\n",
    "    \n",
    "    #For blocks at i = 2(m-1) and j = 2:(n-1)\n",
    "    for i = 2:1:m-1\n",
    "        r = R + (0.5-i)*Delr;\n",
    "        ri = r + 0.5*Delr;\n",
    "        ro = r - 0.5*Delr;\n",
    "        for j = 2:1:n-1\n",
    "            z = n*(i-1)+j;\n",
    "            T_ij1 = (Kro[i-1,j]/uo + Krw[i-1,j]/uw)*K_eff;\n",
    "            T_i1j = (Kro[i,j+1]/uo + Krw[i,j+1]/uw)*K_eff;\n",
    "            T_ij = (Kro[i,j]/uo + Krw[i,j]/uw)*K_eff;\n",
    "            E_ij = (Kro[i,j]*rhoo/uo + Krw[i,j]*rhow/uw)*K_eff;\n",
    "            E_ij1 = (Kro[i-1,j]*rhoo/uo + Krw[i-1,j]*rhow/uw)*K_eff;\n",
    "            A_sparse[z,z-n] = (1/(r*Delr^2))*T_ij1*ri;\n",
    "            A_sparse[z,z-1] = (1/Dell^2)*T_ij;\n",
    "            A_sparse[z,z] = -(1/(r*Delr^2))*(T_ij1*ri+T_ij*ro)-(1/Dell^2)*(T_i1j+T_ij);\n",
    "            A_sparse[z,z+1] = (1/Dell^2)*T_i1j;\n",
    "            A_sparse[z,z+n] = (1/(r*Delr^2))*T_ij*ro;\n",
    "            f[z] = -(1/(r*Delr))*( E_ij*ro - E_ij1*ri)*g*sin(theta);\n",
    "        end\n",
    "        #For blocks at j = 1 and i = 2:m-1\n",
    "        j = 1;\n",
    "        z = n*(i-1)+j;\n",
    "        T_ij = (Kro[i,j]/uo + Krw[i,j]/uw)*K_eff;\n",
    "        T_i1j = (Kro[i,j+1]/uo + Krw[i,j+1]/uw)*K_eff;\n",
    "        T_ij1 = (Kro[i-1,j]/uo + Krw[i-1,j]/uw)*K_eff;\n",
    "        E_ij1 = (Kro[i-1,j]*rhoo/uo + Krw[i-1,j]*rhow/uw)*K_eff;\n",
    "        E_ij = (Kro[i,j]*rhoo/uo + Krw[i,j]*rhow/uw)*K_eff;\n",
    "        A_sparse[z,z-n] = (1/(r*Delr^2))*T_ij1*ri;\n",
    "        A_sparse[z,z] = -(1/(r*Delr^2))*(T_ij1*ri+T_ij*ro)-(1/Dell^2)*T_i1j;\n",
    "        A_sparse[z,z+1] = (1/Dell^2)*T_i1j;\n",
    "        A_sparse[z,z+n] = (1/(r*Delr^2))*T_ij*ro;\n",
    "        f[z] = -(1/(r*Delr))*(E_ij*ro - E_ij1*ri)*g*sin(theta);\n",
    "        #For blocks at j = n and i = 2:m-1\n",
    "        j = n;\n",
    "        z = n*(i-1)+j;\n",
    "        T_ij = (Kro[i,j]/uo + Krw[i,j]/uw)*K_eff;\n",
    "        T_ij1 = (Kro[i-1,j]/uo + Krw[i-1,j]/uw)*K_eff;\n",
    "        E_ij1 = (Kro[i-1,j]*rhoo/uo + Krw[i-1,j]*rhow/uw)*K_eff;\n",
    "        E_ij = (Kro[i,j]*rhoo/uo + Krw[i,j]*rhow/uw)*K_eff;\n",
    "        A_sparse[z,z-n] = (1/(r*Delr^2))*T_ij1*ri;\n",
    "        A_sparse[z,z-1] = (1/Dell^2)*T_ij;\n",
    "        A_sparse[z,z] = -(1/(r*Delr^2))*(T_ij1*ri+T_ij*ro)-(1/Dell^2)*T_ij;\n",
    "        A_sparse[z,z+n] = (1/(r*Delr^2))*T_ij*ro;\n",
    "        f[z] = -(1/(r*Delr))*(E_ij*ro - E_ij1*ri)*g*sin(theta);\n",
    "    end\n",
    "    \n",
    "    #For blocks at i = m and j = 1\n",
    "    i = m;\n",
    "    j = 1;\n",
    "    z = n*(i-1)+j;\n",
    "    r = R + (0.5-i)*Delr;\n",
    "    ri = r + 0.5*Delr;\n",
    "    ro = r - 0.5*Delr;\n",
    "    T_ij1 = (Kro[i-1,j]/uo + Krw[i-1,j]/uw)*K_eff;\n",
    "    T_i1j = (Kro[i,j+1]/uo + Krw[i,j+1]/uw)*K_eff;\n",
    "    E_ij1 = (Kro[i-1,j]*rhoo/uo + Krw[i-1,j]*rhow/uw)*K_eff;\n",
    "    A_sparse[z,z-n] = (1/(r*Delr^2))*ri*T_ij1;\n",
    "    A_sparse[z,z] = -(1/(r*Delr^2))*T_ij1*ri-(1/Dell^2)*T_i1j;\n",
    "    A_sparse[z,z+1] = (1/Dell^2)*T_i1j;\n",
    "    f[z] = qmix[j]/(beta*r*Dell*Delr) + (1/(r*Delr))*E_ij1*ri*g*sin(theta);\n",
    "    #For blocks at i = m and j = n\n",
    "    j = n;\n",
    "    z = n*(i-1)+j;\n",
    "    T_ij1 = (Kro[i-1,j]/uo + Krw[i-1,j]/uw)*K_eff;\n",
    "    T_ij = (Kro[i,j]/uo + Krw[i,j]/uw)*K_eff;\n",
    "    E_ij1 = (Kro[i-1,j]*rhoo/uo + Krw[i-1,j]*rhow/uw)*K_eff;\n",
    "    A_sparse[z,z-n] = (1/(r*Delr^2))*(ri*T_ij1);\n",
    "    A_sparse[z,z-1] = (1/Dell^2)*T_ij ;\n",
    "    A_sparse[z,z] = -(1/(r*Delr^2))*T_ij1*ri-(1/Dell^2)*T_ij; \n",
    "    f[z] = qmix[j]/(beta*r*Dell*Delr) + (1/(r*Delr))*E_ij1*ri*g*sin(theta);\n",
    "    #For blocks at i = m and j = 2:n-1\n",
    "    for j = 2:1:n-1\n",
    "        z = n*(i-1)+j;\n",
    "        T_ij = (Kro[i,j]/uo + Krw[i,j]/uw)*K_eff;\n",
    "        T_i1j = (Kro[i,j+1]/uo + Krw[i,j+1]/uw)*K_eff;\n",
    "        T_ij1 = (Kro[i-1,j]/uo + Krw[i-1,j]/uw)*K_eff;\n",
    "        E_ij1 = (Kro[i-1,j]*rhoo/uo + Krw[i-1,j]*rhow/uw)*K_eff;\n",
    "        A_sparse[z,z-n] = (1/(r * Delr^2))*T_ij1*ri;\n",
    "        A_sparse[z,z-1] = (1/Dell^2)*T_ij ;\n",
    "        A_sparse[z,z] = -(1/(r*Delr^2))*T_ij1*ri-(1/Dell^2)*(T_ij + T_i1j);\n",
    "        A_sparse[z,z+1] = (1/Dell^2)*T_i1j;\n",
    "        f[z] = qmix[j]/(beta*r*Dell*Delr) + (1/(r*Delr))*E_ij1*ri*g*sin(theta);\n",
    "    end\n",
    "    #Solving for the pentadiagonal matrix\n",
    "    p = A_sparse\\f;\n",
    "    return p;\n",
    "end "
   ]
  },
  {
   "cell_type": "markdown",
   "id": "demographic-firewall",
   "metadata": {},
   "source": [
    "# ODE function"
   ]
  },
  {
   "cell_type": "code",
   "execution_count": 323,
   "id": "fabulous-narrow",
   "metadata": {},
   "outputs": [
    {
     "data": {
      "text/plain": [
       "reservoir_PI (generic function with 1 method)"
      ]
     },
     "execution_count": 323,
     "metadata": {},
     "output_type": "execute_result"
    }
   ],
   "source": [
    "function reservoir_PI(du,Sw,p,t)\n",
    "    phi,K_R,K_L,Kwa,alpha,beta = p\n",
    "    K_eff = sqrt(K_R*K_L);\n",
    "    Sw,Krw,Kro = UpdatePerm(Sw);\n",
    "    P = PressureCalc(Krw,Kro,qmix);\n",
    "    for j=1:n\n",
    "        To=(Kro[m,j]*K_eff/uo);\n",
    "        Tw=(Krw[m,j]*K_eff/uw);\n",
    "        prw[j]=P[n*(m-1)+j]-((qmix[j]/(2*pi*Dell/log(re/rw))+(To*rhoo+Tw*rhow)*g*sin(theta)*(re-rw))/(To+Tw));\n",
    "        rho_mix[j] = (To*rhoo+Tw*rhow)/(To+Tw);\n",
    "    end\n",
    "    for j = 1:Nv\n",
    "        q_wcut[j] = ((Krw[m,j]/uw)/(Kro[m,j]/uo+Krw[m,j]/uw));\n",
    "    end\n",
    "\n",
    "    #PI controller\n",
    "    ref = min(q_wcut[:]...);    #reference for a PI controller\n",
    "    #ref = 0;\n",
    "    Err[1] = ref - mean(q_wcut[1:5]);\n",
    "    Err[2] = ref - mean(q_wcut[6:10]);\n",
    "    Err[3] = ref - mean(q_wcut[11:15]);\n",
    "    Err[4] = ref - mean(q_wcut[16:20]);\n",
    "\n",
    "    @. u1[:] = Ar + kp*Err[:] + kp/Ti*z1[:];\n",
    "    @. z1[:] = z1[:] + Ts*Err[:];\n",
    "    \n",
    "    for j in 1:4\n",
    "        if u1[j] < 0.0\n",
    "            u1[j] = 0.0;\n",
    "        elseif u1[j]>Ar\n",
    "            u1[j] = Ar;\n",
    "        end\n",
    "    end\n",
    "        \n",
    "    @. uAc[:] = u1[:];  #control signal\n",
    "    \n",
    "    qmix[1:Nv] = Borehole_PI(prw,Qtot,uAc[1],uAc[2],uAc[3],uAc[4],rho_mix)[1];  #calculating flow from each ICVs \n",
    "    for j = 1:Nv\n",
    "        q_w[j] = ((Krw[m,j]/uw)/(Kro[m,j]/uo+Krw[m,j]/uw))*qmix[j];\n",
    "    end\n",
    "    \n",
    "    # Saturation calculation For blocks at i = 1 and j = 1\n",
    "    i = 1;\n",
    "    j = 1;\n",
    "    z = n*(i-1)+j;\n",
    "    r = R + (0.5-i)*Delr;\n",
    "    ri = R;\n",
    "    ro = R - i*Delr;\n",
    "    T_a = (Kwa/uw)*K_eff;\n",
    "    T_ji1 = (Krw[i,j+1]/uw)*K_eff;\n",
    "    T_ji = (Krw[i,j]/uw)*K_eff;\n",
    "    E_a = (Kwa*rhow/uw)*K_eff;\n",
    "    E_ji = (Krw[i,j]*rhow/uw)*K_eff;\n",
    "    B_sparse[z,z] = -1/(r*Delr^2)*(T_a*ri+T_ji*ro)-1/(Dell^2)*(T_ji1); #Little different than the zhangs code\n",
    "    B_sparse[z,z+1] = 1/(Dell^2)*T_ji1;\n",
    "    B_sparse[z,z+n] = 1/(r*Delr^2)*ro*T_ji;\n",
    "    v[z] = -1/(r*Delr^2)*T_a*ri*P_a - 1/(r*Delr)*( E_ji*ro - E_a*ri)*g*sin(theta);\n",
    "    #Saturation calculation For blocks at i = 1 and j = 2:n-1\n",
    "    i = 1;\n",
    "    for j = 2:1:n-1\n",
    "        z = n*(i-1)+j;\n",
    "        T_ji = (Krw[i,j]/uw)*K_eff;\n",
    "        T_ji1 = (Krw[i,j+1]/uw)*K_eff;\n",
    "        E_ji = (Krw[i,j]*rhow/uw)*K_eff;\n",
    "        B_sparse[z,z-1] = 1/(Dell^2)*T_ji;\n",
    "        B_sparse[z,z] = -1/(r*Delr^2)*(T_a*ri+T_ji*ro)-1/(Dell^2)*(T_ji + T_ji1);\n",
    "        B_sparse[z,z+1] = 1/(Dell^2)*T_ji1;\n",
    "        B_sparse[z,z+n] = 1/(r * Delr^2)*(T_ji*ro);\n",
    "        v[z] = -1/(r*Delr^2)*T_a*ri*P_a - 1/(r*Delr)*( E_ji*ro - E_a*ri)*g*sin(theta);\n",
    "    end\n",
    "    #For blocks at i = 1 and j = n\n",
    "    i = 1;\n",
    "    j = n;\n",
    "    z = n*(i-1)+j;\n",
    "    T_ji = (Krw[i,j]/uw)*K_eff;\n",
    "    E_ji = (Krw[i,j]*rhow/uw)*K_eff;\n",
    "    B_sparse[z,z-1] = 1/(Dell^2)*T_ji;\n",
    "    B_sparse[z,z] = -1/(r*Delr^2)*(T_a*ri+T_ji*ro)-1/(Dell^2)*(T_ji);\n",
    "    B_sparse[z,z+n] = 1/(r*Delr^2)*(T_ji*ro);\n",
    "    v[z] = -1/(r*Delr^2)*T_a*ri*P_a - 1/(r*Delr)*(E_ji*ro - E_a*ri)*g*sin(theta);\n",
    "    \n",
    "    #For blocks at i = 2:m-1 and j = 1:n\n",
    "    for i = 2:1:m-1\n",
    "        r = R + (0.5-i)*Delr;\n",
    "        ri = r + 0.5*Delr;\n",
    "        ro = r - 0.5*Delr;\n",
    "        for j = 2:1:n-1\n",
    "            z = n*(i-1)+j;\n",
    "            T_j1i = (Krw[i-1,j]/uw)*K_eff;\n",
    "            T_ji1 = (Krw[i,j+1]/uw)*K_eff;\n",
    "            T_ji = (Krw[i,j]/uw)*K_eff;\n",
    "            E_ji = (Krw[i,j]*rhow/uw)*K_eff;\n",
    "            E_j1i = (Krw[i-1,j]*rhow/uw)*K_eff;\n",
    "            B_sparse[z,z-n] = 1/(r*Delr^2)*(T_j1i*ri);\n",
    "            B_sparse[z,z-1] = 1/(Dell^2)*T_ji;\n",
    "            B_sparse[z,z] = -1/(r*Delr^2)*(T_j1i*ri+T_ji*ro)-1/(Dell^2)*(T_ji1+T_ji);\n",
    "            B_sparse[z,z+1] = 1/(Dell^2)*T_ji1;\n",
    "            B_sparse[z,z+n] = 1/(r*Delr^2)*(T_ji*ro);\n",
    "            v[z] = -1/(r*Delr)*( E_ji*ro - E_j1i*ri)*g*sin(theta);\n",
    "        end\n",
    "        j = 1;\n",
    "        z = n*(i-1)+j;\n",
    "        T_ji = (Krw[i,j]/uw)*K_eff;\n",
    "        T_ji1 = (Krw[i,j+1]/uw)*K_eff;\n",
    "        T_j1i = (Krw[i-1,j]/uw)*K_eff;\n",
    "        E_j1i = (Krw[i-1,j]*rhow/uw)*K_eff;\n",
    "        E_ji = (Krw[i,j]*rhow/uw)*K_eff;\n",
    "        B_sparse[z,z-n] = 1/(r*Delr^2)*T_j1i*ri;\n",
    "        B_sparse[z,z] = -1/(r*Delr^2)*(T_j1i*ri+T_ji*ro)-1/(Dell^2)*(T_ji1);\n",
    "        B_sparse[z,z+1] = 1/(Dell^2)*T_ji1;\n",
    "        B_sparse[z,z+n] = 1/(r*Delr^2)*(T_ji*ro);\n",
    "        v[z] = -1/(r*Delr)*(E_ji*ro - E_j1i*ri)*g*sin(theta);\n",
    "\n",
    "        j=n;\n",
    "        z = n*(i-1)+j;\n",
    "        T_ji = (Krw[i,j]/uw)*K_eff;\n",
    "        T_j1i = (Krw[i-1,j]/uw)*K_eff;\n",
    "        E_j1i = (Krw[i-1,j]*rhow/uw)*K_eff;\n",
    "        E_ji = (Krw[i,j]*rhow/uw)*K_eff;\n",
    "        B_sparse[z,z-n] = 1/(r*Delr^2)*T_j1i*ri;\n",
    "        B_sparse[z,z-1] = 1/(Dell^2)*T_ji;\n",
    "        B_sparse[z,z] = -1/(r*Delr^2)*(T_j1i*ri+T_ji*ro)-1/(Dell^2)*(T_ji);\n",
    "        B_sparse[z,z+n] = 1/(r*Delr^2)*(T_ji*ro);\n",
    "        v[z] = -1/(r*Delr)*(E_ji*ro - E_j1i*ri)*g*sin(theta);\n",
    "    end\n",
    "    \n",
    "    #For blocks at i = m and j = 1\n",
    "    i = m;\n",
    "    j = 1;\n",
    "    r = R + (0.5-i)*Delr;\n",
    "    ri = r + 0.5 * Delr;\n",
    "    ro = r - 0.5 * Delr;\n",
    "    z = n*(i-1)+j;\n",
    "    T_j1i = (Krw[i-1,j]/uw)*K_eff;\n",
    "    T_ji1 = (Krw[i,j+1]/uw)*K_eff;\n",
    "    E_j1i = (Krw[i-1,j]*rhow/uw)*K_eff;\n",
    "    B_sparse[z,z-n] = 1/(r*Delr^2)*(ri*T_j1i)\n",
    "    B_sparse[z,z] =-1/(r*Delr^2)*(T_j1i*ri)-1/(Dell^2)*(T_ji1) ;\n",
    "    B_sparse[z,z+1] = 1/(Dell^2)*T_ji1;\n",
    "    v[z] = q_w[j]/(beta*r*Dell*Delr) + 1/(r*Delr)*(E_j1i*ri )*g*sin(theta);\n",
    "    #For blocks at i = m and j = n\n",
    "    j = n;\n",
    "    z = n*(i-1)+j;\n",
    "    T_j1i = (Krw[i-1,j]/uw)*K_eff;\n",
    "    T_ji = (Krw[i,j]/uw)*K_eff;\n",
    "    E_j1i = (Krw[i-1,j]*rhow/uw)*K_eff;\n",
    "    B_sparse[z,z-n] = 1/(r*Delr^2)*(ri*T_j1i);\n",
    "    B_sparse[z,z-1] = 1/(Dell^2)*T_ji ;\n",
    "    B_sparse[z,z] = -1/(r*Delr^2)*(T_j1i*ri)-1/(Dell^2)*(T_ji) ;\n",
    "    v[z] = q_w[j]/(beta*r*Dell*Delr) + 1/(r*Delr)*(E_j1i*ri )*g*sin(theta);\n",
    "    #For blocks at i = m and j = 2:n-1\n",
    "    for j = 2:1:n-1\n",
    "        z = n*(i-1)+j;\n",
    "        T_ji = (Krw[i,j]/uw)*K_eff;\n",
    "        T_ji1 = (Krw[i,j+1]/uw)*K_eff;\n",
    "        T_j1i = (Krw[i-1,j]/uw)*K_eff;\n",
    "        E_j1i = (Krw[i-1,j]*rhow/uw)*K_eff;\n",
    "        B_sparse[z,z-n] = 1/(r * Delr^2)*(T_j1i*ri);\n",
    "        B_sparse[z,z-1] = 1/(Dell^2)*(T_ji) ;\n",
    "        B_sparse[z,z] = -1/(r*Delr^2)*(T_j1i*ri)-1/(Dell^2)*(T_ji + T_ji1);\n",
    "        B_sparse[z,z+1] = 1/(Dell^2)*(T_ji1);\n",
    "        v[z] = q_w[j]/(beta*r*Dell*Delr) + 1/(r*Delr)*(E_j1i*ri)*g*sin(theta);\n",
    "    end\n",
    "    dw = B_sparse*P-v;\n",
    "    for i = 1:1:m\n",
    "        du[i,1:n] = (d2s/phi)*dw[n*(i-1)+1:n*i]\n",
    "    end\n",
    "end"
   ]
  },
  {
   "cell_type": "markdown",
   "id": "municipal-upset",
   "metadata": {},
   "source": [
    "# Initializing and solving Montr Carlo problem"
   ]
  },
  {
   "cell_type": "code",
   "execution_count": 334,
   "id": "integrated-stream",
   "metadata": {},
   "outputs": [
    {
     "data": {
      "text/plain": [
       "EnsembleProblem with problem ODEProblem"
      ]
     },
     "execution_count": 334,
     "metadata": {},
     "output_type": "execute_result"
    }
   ],
   "source": [
    "low_Sw0 = 0.8;\n",
    "high_Sw0 = 1.2;\n",
    "low_phi = 0.8;\n",
    "high_phi = 1.2;\n",
    "low_K = 0.8;\n",
    "high_K = 1.2;\n",
    "t_stop = 1000;\n",
    "\n",
    "Sw0 = [0.15 for x in 1:m, y in 1:n];\n",
    "p = [phi,K_R,K_L,Kwa,alpha,beta];   #Parameters\n",
    "tspan = [0.0,t_stop];\n",
    "prob = ODEProblem(reservoir_PI,Sw0,tspan, p);\n",
    "@everywhere function prob_func(prob,i,repeat)\n",
    "    ODEProblem(prob.f,rand(Uniform(low_Sw0, high_Sw0))*Sw0,prob.tspan,\n",
    "              [phi*rand(Uniform(low_phi, high_phi)),\n",
    "               K_R*rand(Uniform(low_K,high_K)),K_L*rand(Uniform(low_K,high_K)),\n",
    "               Kwa,alpha,beta])\n",
    "end\n",
    "\n",
    "ensemble_prob = EnsembleProblem(prob,prob_func=prob_func)"
   ]
  },
  {
   "cell_type": "code",
   "execution_count": 335,
   "id": "promotional-halloween",
   "metadata": {},
   "outputs": [
    {
     "name": "stdout",
     "output_type": "stream",
     "text": [
      "17041.402376 seconds (57.56 G allocations: 1.534 TiB, 1.87% gc time, 0.03% compilation time)\n"
     ]
    },
    {
     "name": "stderr",
     "output_type": "stream",
     "text": [
      "┌ Warning: num_monte has been replaced by trajectories\n",
      "└ @ SciMLBase C:\\Users\\asisb\\.julia\\packages\\SciMLBase\\yh1iq\\src\\ensemble\\basic_ensemble_solve.jl:47\n"
     ]
    },
    {
     "data": {
      "text/plain": [
       "EnsembleSolution Solution of length 100 with uType:\n",
       "ODESolution{Float64, 3, Vector{Matrix{Float64}}, Nothing, Nothing, Vector{Float64}, Vector{Vector{Matrix{Float64}}}, ODEProblem{Matrix{Float64}, Tuple{Float64, Float64}, true, Vector{Float64}, ODEFunction{true, typeof(reservoir_PI), UniformScaling{Bool}, Nothing, Nothing, Nothing, Nothing, Nothing, Nothing, Nothing, Nothing, Nothing, Nothing, Nothing, Nothing, typeof(SciMLBase.DEFAULT_OBSERVED), Nothing}, Base.Iterators.Pairs{Union{}, Union{}, Tuple{}, NamedTuple{(), Tuple{}}}, SciMLBase.StandardODEProblem}, Tsit5, OrdinaryDiffEq.InterpolationData{ODEFunction{true, typeof(reservoir_PI), UniformScaling{Bool}, Nothing, Nothing, Nothing, Nothing, Nothing, Nothing, Nothing, Nothing, Nothing, Nothing, Nothing, Nothing, typeof(SciMLBase.DEFAULT_OBSERVED), Nothing}, Vector{Matrix{Float64}}, Vector{Float64}, Vector{Vector{Matrix{Float64}}}, OrdinaryDiffEq.Tsit5Cache{Matrix{Float64}, Matrix{Float64}, Matrix{Float64}, OrdinaryDiffEq.Tsit5ConstantCache{Float64, Float64}}}, DiffEqBase.DEStats}"
      ]
     },
     "execution_count": 335,
     "metadata": {},
     "output_type": "execute_result"
    }
   ],
   "source": [
    "@time begin\n",
    "sim = solve(ensemble_prob,Tsit5(),num_monte=100);\n",
    "end"
   ]
  },
  {
   "cell_type": "markdown",
   "id": "advanced-tourist",
   "metadata": {},
   "source": [
    "# Calculating and storing required measurmen values"
   ]
  },
  {
   "cell_type": "code",
   "execution_count": 337,
   "id": "understanding-abuse",
   "metadata": {},
   "outputs": [],
   "source": [
    "num_monte=100;\n",
    "Sat_mon = zeros(Float64,m,n,tim,num_monte);\n",
    "permo_mon = zeros(Float64,m,n,tim,num_monte);\n",
    "permw_mon = zeros(Float64,m,n,tim,num_monte);\n",
    "Press_mon = zeros(Float64,m*n,tim,num_monte);\n",
    "Press_i_mon = zeros(Float64,m,n,tim,num_monte);\n",
    "\n",
    "prw_mon = zeros(Float64,n,tim,num_monte);\n",
    "qmix_mon = zeros(Float64,n,tim+1,num_monte);\n",
    "qo_mon = zeros(Float64,n,tim,num_monte);\n",
    "qw_mon = zeros(Float64,n,tim,num_monte);\n",
    "\n",
    "Press_average_mon = zeros(Float64,m,tim,num_monte);\n",
    "Saturation_average_mon = zeros(Float64,m,tim,num_monte);\n",
    "\n",
    "summat_qo_mon = zeros(Float64,tim,num_monte);\n",
    "summat_qw_mon = zeros(Float64,tim,num_monte);\n",
    "Acc_qo_mon = zeros(Float64,tim+1,num_monte);\n",
    "Acc_qw_mon = zeros(Float64,tim+1,num_monte);\n",
    "q_wcut_mon = zeros(Float64,n,tim,num_monte);\n",
    "\n",
    "rho_mix_mon = zeros(Float64,n,tim,num_monte);\n",
    "pb_mon = zeros(Float64,tim,num_monte)\n",
    "\n",
    "for i in 1:num_mon\n",
    "    for k in 1:t_stop\n",
    "        Sat_mon[:,:,k,i] = sim[i](1:t_stop)[k];\n",
    "    end \n",
    "end"
   ]
  },
  {
   "cell_type": "code",
   "execution_count": 349,
   "id": "grateful-canal",
   "metadata": {},
   "outputs": [],
   "source": [
    "ref_mon = zeros(Float64,tim,num_monte);\n",
    "Err_mon = zeros(Float64,4,tim,num_monte);\n",
    "u1_mon = zeros(Float64,4,tim,num_monte);\n",
    "z1_mon = zeros(Float64,4,tim,num_monte);\n",
    "uAc_mon = zeros(Float64,4,tim,num_monte);"
   ]
  },
  {
   "cell_type": "code",
   "execution_count": 350,
   "id": "unusual-shame",
   "metadata": {},
   "outputs": [],
   "source": [
    "for k in 1:num_monte\n",
    "    #Calculating permaebilities\n",
    "    for i in 1:tim\n",
    "        @. permo_mon[:,:,i,k] = (1.0 - Sat_mon[:,:,i,k])^fit3 * (1.0 - Sat_mon[:,:,i,k]^fit4);\n",
    "        @. permw_mon[:,:,i,k] = Sat_mon[:,:,i,k]^fit1 + fit2;\n",
    "    end\n",
    "    #Calculating pressure\n",
    "    for i in 1:tim\n",
    "        Press_mon[:,i,k] =   PressureCalc(permw_mon[:,:,i,k],permo_mon[:,:,i,k],qmix_mon[:,i,k]);\n",
    "        @. prw_mon[:,i,k]=Press_mon[(m*n-n+1):(m*n),i,k]-((qmix_mon[:,i,k]/(2*pi*Dell/log(re/rw))+((permo_mon[m,:,i,k]*K_eff/uo)*rhoo+(permw_mon[m,:,i,k]*K_eff/uw)*rhow)*g*sin(theta)*(re-rw))/((permo_mon[m,:,i,k]*K_eff/uo)+(permw_mon[m,:,i,k]*K_eff/uw)));\n",
    "        @. rho_mix_mon[:,i,k] = ((permo_mon[m,:,i,k]*K_eff/uo)*rhoo+(permw_mon[m,:,i,k]*K_eff/uw)*rhow)/((permo_mon[m,:,i,k]*K_eff/uo)+(permw_mon[m,:,i,k]*K_eff/uw));\n",
    "        for j = 1:Nv\n",
    "            q_wcut_mon[j,i,k] = ((permw_mon[m,j,i,k]/uw)/(permo_mon[m,j,i,k]/uo + permw_mon[m,j,i,k]/uw));\n",
    "        end\n",
    "        ref_mon[i,k] = min(q_wcut_mon[:,i,k]...);\n",
    "        #ref = 0;\n",
    "        Err_mon[1,i,k] = ref_mon[i,k] - mean(q_wcut_mon[1:5,i,k]);\n",
    "        Err_mon[2,i,k] = ref_mon[i,k] - mean(q_wcut_mon[6:10,i,k]);\n",
    "        Err_mon[3,i,k] = ref_mon[i,k] - mean(q_wcut_mon[11:15,i,k]);\n",
    "        Err_mon[4,i,k] = ref_mon[i,k] - mean(q_wcut_mon[16:20,i,k]);\n",
    "    \n",
    "    \n",
    "        @. u1_mon[:,i,k] = Ar + kp*Err_mon[:,i,k] + kp/Ti*z1_mon[:,i,k];\n",
    "        @. z1_mon[:,i,k] = z1_mon[:,i,k] + Ts*Err_mon[:,i,k];\n",
    "    \n",
    "        for j in 1:4\n",
    "            if u1_mon[j,i,k] < 0.0\n",
    "                u1_mon[j,i,k] = 0.0001*Ar;\n",
    "            elseif u1_mon[j,i,k]>Ar\n",
    "                u1_mon[j,i,k] = Ar;\n",
    "            end\n",
    "        end\n",
    "        \n",
    "        @. uAc_mon[:,i,k] = u1_mon[:,i,k];\n",
    "    \n",
    "    \n",
    "        qmix_mon[:,i+1,k],pb_mon[i,k] = Borehole_PI(prw_mon[:,i,k],Qtot,uAc_mon[1,i,k],uAc_mon[2,i,k],uAc_mon[3,i,k],uAc_mon[4,i,k],rho_mix_mon[:,i,k]);\n",
    "        \n",
    "\n",
    "        @. qo_mon[:,i,k] =   (1-((permw_mon[m,:,i,k]/uw)/(permo_mon[m,:,i,k]/uo + permw_mon[m,:,i,k]/uw)))*qmix_mon[:,i+1,k];\n",
    "        @. qw_mon[:,i,k] = (((permw_mon[m,:,i,k]/uw)/(permo_mon[m,:,i,k]/uo + permw_mon[m,:,i,k]/uw)))*qmix_mon[:,i+1,k]; \n",
    "        for j in 1:m\n",
    "            Press_i_mon[j,:,i,k] = Press_mon[n*(j-1)+1:n*j,i,k]\n",
    "        end\n",
    "\n",
    "        for j in 1:m\n",
    "            Press_average_mon[j,i,k] = mean(Press_i_mon[j,:,i,k]);\n",
    "        end\n",
    "\n",
    "        for j in 1:m\n",
    "            Saturation_average_mon[j,i,k] = mean(Sat_mon[j,:,i,k]);\n",
    "        end\n",
    "\n",
    "        summat_qo_mon[i,k] = sum(qo_mon[:,i,k]);\n",
    "        summat_qw_mon[i,k] = sum(qw_mon[:,i,k]);\n",
    "        Acc_qo_mon[i+1,k] = Acc_qo_mon[i,k] + summat_qo_mon[i,k]*d2s;\n",
    "        Acc_qw_mon[i+1,k] = Acc_qw_mon[i,k] + summat_qw_mon[i,k]*d2s;\n",
    "    end\n",
    "end"
   ]
  },
  {
   "cell_type": "code",
   "execution_count": 364,
   "id": "express-shift",
   "metadata": {},
   "outputs": [
    {
     "data": {
      "image/png": "[encoded data removed]",
      "text/plain": [
       "PyPlot.Figure(PyObject <Figure size 600x400 with 1 Axes>)"
      ]
     },
     "metadata": {},
     "output_type": "display_data"
    }
   ],
   "source": [
    "plot(Acc_qo_mon[:,:],lc=LCoil,lw=LW1, legend = false,\n",
    "    xlabel = L\"time[\\mathrm{days}]\",\n",
    "    ylabel = L\"Accumulated\\ oil[m^3]\",title = \"Monte Carlo simulation for oil production \\n implementing PI controller\")\n",
    "figfile=\"AccumulatedoilMonteCarlo_PI_CF.svg\"\n",
    "savefig(figpath*figfile)"
   ]
  },
  {
   "cell_type": "code",
   "execution_count": 356,
   "id": "filled-hindu",
   "metadata": {},
   "outputs": [
    {
     "data": {
      "image/png": "[encoded data removed]",
      "text/plain": [
       "PyPlot.Figure(PyObject <Figure size 600x400 with 1 Axes>)"
      ]
     },
     "metadata": {},
     "output_type": "display_data"
    }
   ],
   "source": [
    "plot(Acc_qw_mon[:,:],lc=LCwater,lw=LW1, legend = false,\n",
    "    xlabel = L\"time[\\mathrm{days}]\",\n",
    "    ylabel = L\"Accumulated\\ water[m^3]\",title = \"Monte Carlo simulation for water production \\n implementing PI controller\")\n",
    "figfile=\"AccumulatedwaterMonteCarlo_PI_CF.svg\"\n",
    "savefig(figpath*figfile)"
   ]
  },
  {
   "cell_type": "code",
   "execution_count": 360,
   "id": "complete-tracy",
   "metadata": {},
   "outputs": [],
   "source": [
    "save(\"dataoil.jld\", \"dataoil\", Acc_qo_mon)  #saving results"
   ]
  },
  {
   "cell_type": "code",
   "execution_count": 361,
   "id": "awful-pioneer",
   "metadata": {},
   "outputs": [],
   "source": [
    "save(\"datawater.jld\", \"datawater\", Acc_qw_mon)  #saving results"
   ]
  },
  {
   "cell_type": "code",
   "execution_count": 365,
   "id": "atomic-dynamics",
   "metadata": {},
   "outputs": [
    {
     "data": {
      "text/plain": [
       "(614686.8166542668, 66)"
      ]
     },
     "execution_count": 365,
     "metadata": {},
     "output_type": "execute_result"
    }
   ],
   "source": [
    "max_oil_PI = findmax(Acc_qo_mon[1001,:])"
   ]
  },
  {
   "cell_type": "code",
   "execution_count": 366,
   "id": "atlantic-victor",
   "metadata": {},
   "outputs": [
    {
     "data": {
      "text/plain": [
       "(440947.03045895376, 30)"
      ]
     },
     "execution_count": 366,
     "metadata": {},
     "output_type": "execute_result"
    }
   ],
   "source": [
    "max_water_PI = findmax(Acc_qw_mon[1001,:])"
   ]
  },
  {
   "cell_type": "code",
   "execution_count": 368,
   "id": "dynamic-seller",
   "metadata": {},
   "outputs": [
    {
     "data": {
      "text/plain": [
       "(359039.0952441586, 30)"
      ]
     },
     "execution_count": 368,
     "metadata": {},
     "output_type": "execute_result"
    }
   ],
   "source": [
    "min_oil_PI = findmin(Acc_qo_mon[1001,:])"
   ]
  },
  {
   "cell_type": "code",
   "execution_count": 369,
   "id": "awful-cycle",
   "metadata": {},
   "outputs": [
    {
     "data": {
      "text/plain": [
       "(185309.59266303695, 66)"
      ]
     },
     "execution_count": 369,
     "metadata": {},
     "output_type": "execute_result"
    }
   ],
   "source": [
    "min_water_PI = findmin(Acc_qw_mon[1001,:])"
   ]
  },
  {
   "cell_type": "code",
   "execution_count": null,
   "id": "median-fellow",
   "metadata": {},
   "outputs": [],
   "source": []
  }
 ],
 "metadata": {
  "kernelspec": {
   "display_name": "Julia 1.6.0",
   "language": "julia",
   "name": "julia-1.6"
  },
  "language_info": {
   "file_extension": ".jl",
   "mimetype": "application/julia",
   "name": "julia",
   "version": "1.6.0"
  }
 },
 "nbformat": 4,
 "nbformat_minor": 5
}
